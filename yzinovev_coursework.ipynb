{
 "cells": [
  {
   "cell_type": "code",
   "execution_count": 1,
   "metadata": {},
   "outputs": [],
   "source": [
    "import numpy as np\n",
    "import pandas as pd\n",
    "import matplotlib.pyplot as plt\n",
    "from sklearn.datasets import load_boston\n",
    "from sklearn.model_selection import train_test_split, GridSearchCV\n",
    "from sklearn.linear_model import LinearRegression\n",
    "from sklearn.ensemble import RandomForestRegressor, RandomForestClassifier\n",
    "from sklearn.metrics import r2_score\n",
    "from sklearn import preprocessing"
   ]
  },
  {
   "cell_type": "code",
   "execution_count": 2,
   "metadata": {},
   "outputs": [],
   "source": [
    "%matplotlib inline"
   ]
  },
  {
   "cell_type": "code",
   "execution_count": 3,
   "metadata": {},
   "outputs": [],
   "source": [
    "data_train = pd.read_csv('./data/train.csv')\n",
    "data_test = pd.read_csv('./data/test.csv')"
   ]
  },
  {
   "cell_type": "markdown",
   "metadata": {},
   "source": [
    "### Split"
   ]
  },
  {
   "cell_type": "code",
   "execution_count": 4,
   "metadata": {},
   "outputs": [
    {
     "name": "stdout",
     "output_type": "stream",
     "text": [
      "<class 'pandas.core.frame.DataFrame'>\n",
      "Int64Index: 8000 entries, 9254 to 7270\n",
      "Data columns (total 19 columns):\n",
      "DistrictId       8000 non-null int64\n",
      "Ecology_1        8000 non-null float64\n",
      "Ecology_2        8000 non-null object\n",
      "Ecology_3        8000 non-null object\n",
      "Floor            8000 non-null int64\n",
      "Healthcare_1     4148 non-null float64\n",
      "Helthcare_2      8000 non-null int64\n",
      "HouseFloor       8000 non-null float64\n",
      "HouseYear        8000 non-null int64\n",
      "Id               8000 non-null int64\n",
      "KitchenSquare    8000 non-null float64\n",
      "LifeSquare       6299 non-null float64\n",
      "Rooms            8000 non-null float64\n",
      "Shops_1          8000 non-null int64\n",
      "Shops_2          8000 non-null object\n",
      "Social_1         8000 non-null int64\n",
      "Social_2         8000 non-null int64\n",
      "Social_3         8000 non-null int64\n",
      "Square           8000 non-null float64\n",
      "dtypes: float64(7), int64(9), object(3)\n",
      "memory usage: 1.2+ MB\n"
     ]
    }
   ],
   "source": [
    "X = data_train[data_train.columns.difference(['Price'])]\n",
    "y = data_train.Price\n",
    "X_train, X_valid, y_train, y_valid = train_test_split(X, y, test_size=0.2, random_state=42)\n",
    "X_train.info()"
   ]
  },
  {
   "cell_type": "markdown",
   "metadata": {},
   "source": [
    "### Data preparing"
   ]
  },
  {
   "cell_type": "code",
   "execution_count": 5,
   "metadata": {},
   "outputs": [],
   "source": [
    "def drop_healthcare(ds):\n",
    "    return ds.drop(columns=['Healthcare_1'], axis=1)"
   ]
  },
  {
   "cell_type": "code",
   "execution_count": 6,
   "metadata": {},
   "outputs": [],
   "source": [
    "def drop_kitchen(ds):\n",
    "    return ds.drop(columns=['KitchenSquare'], axis=1)"
   ]
  },
  {
   "cell_type": "code",
   "execution_count": 7,
   "metadata": {},
   "outputs": [],
   "source": [
    "def set_dummies(ds):\n",
    "    return pd.get_dummies(ds)"
   ]
  },
  {
   "cell_type": "code",
   "execution_count": 8,
   "metadata": {},
   "outputs": [],
   "source": [
    "def fill_lifesquare(ds):\n",
    "    ds.LifeSquare = ds.LifeSquare.fillna(1)\n",
    "    ds.LifeSquare = np.where((ds.LifeSquare < 8) | (ds.LifeSquare > ds.Square), ds.Square, ds.LifeSquare)\n",
    "    return ds"
   ]
  },
  {
   "cell_type": "code",
   "execution_count": 9,
   "metadata": {},
   "outputs": [],
   "source": [
    "def prepare(ds):\n",
    "    ds = drop_healthcare(ds)\n",
    "    ds = drop_kitchen(ds)\n",
    "    ds = set_dummies(ds)\n",
    "    ds = fill_lifesquare(ds)\n",
    "    return ds"
   ]
  },
  {
   "cell_type": "code",
   "execution_count": 10,
   "metadata": {},
   "outputs": [],
   "source": [
    "X_train = prepare(X_train)\n",
    "X_valid = prepare(X_valid)"
   ]
  },
  {
   "cell_type": "code",
   "execution_count": 11,
   "metadata": {},
   "outputs": [
    {
     "data": {
      "text/html": [
       "<div>\n",
       "<style scoped>\n",
       "    .dataframe tbody tr th:only-of-type {\n",
       "        vertical-align: middle;\n",
       "    }\n",
       "\n",
       "    .dataframe tbody tr th {\n",
       "        vertical-align: top;\n",
       "    }\n",
       "\n",
       "    .dataframe thead th {\n",
       "        text-align: right;\n",
       "    }\n",
       "</style>\n",
       "<table border=\"1\" class=\"dataframe\">\n",
       "  <thead>\n",
       "    <tr style=\"text-align: right;\">\n",
       "      <th></th>\n",
       "      <th>DistrictId</th>\n",
       "      <th>Ecology_1</th>\n",
       "      <th>Floor</th>\n",
       "      <th>Helthcare_2</th>\n",
       "      <th>HouseFloor</th>\n",
       "      <th>HouseYear</th>\n",
       "      <th>Id</th>\n",
       "      <th>LifeSquare</th>\n",
       "      <th>Rooms</th>\n",
       "      <th>Shops_1</th>\n",
       "      <th>Social_1</th>\n",
       "      <th>Social_2</th>\n",
       "      <th>Social_3</th>\n",
       "      <th>Square</th>\n",
       "      <th>Ecology_2_A</th>\n",
       "      <th>Ecology_2_B</th>\n",
       "      <th>Ecology_3_A</th>\n",
       "      <th>Ecology_3_B</th>\n",
       "      <th>Shops_2_A</th>\n",
       "      <th>Shops_2_B</th>\n",
       "    </tr>\n",
       "  </thead>\n",
       "  <tbody>\n",
       "    <tr>\n",
       "      <th>9254</th>\n",
       "      <td>58</td>\n",
       "      <td>0.437885</td>\n",
       "      <td>3</td>\n",
       "      <td>0</td>\n",
       "      <td>1.0</td>\n",
       "      <td>1977</td>\n",
       "      <td>12473</td>\n",
       "      <td>62.798045</td>\n",
       "      <td>1.0</td>\n",
       "      <td>5</td>\n",
       "      <td>23</td>\n",
       "      <td>5735</td>\n",
       "      <td>3</td>\n",
       "      <td>65.271225</td>\n",
       "      <td>0</td>\n",
       "      <td>1</td>\n",
       "      <td>0</td>\n",
       "      <td>1</td>\n",
       "      <td>0</td>\n",
       "      <td>1</td>\n",
       "    </tr>\n",
       "    <tr>\n",
       "      <th>1561</th>\n",
       "      <td>146</td>\n",
       "      <td>0.236108</td>\n",
       "      <td>5</td>\n",
       "      <td>3</td>\n",
       "      <td>18.0</td>\n",
       "      <td>2017</td>\n",
       "      <td>14050</td>\n",
       "      <td>43.816601</td>\n",
       "      <td>2.0</td>\n",
       "      <td>10</td>\n",
       "      <td>16</td>\n",
       "      <td>3893</td>\n",
       "      <td>27</td>\n",
       "      <td>45.091598</td>\n",
       "      <td>0</td>\n",
       "      <td>1</td>\n",
       "      <td>0</td>\n",
       "      <td>1</td>\n",
       "      <td>0</td>\n",
       "      <td>1</td>\n",
       "    </tr>\n",
       "    <tr>\n",
       "      <th>1670</th>\n",
       "      <td>5</td>\n",
       "      <td>0.150818</td>\n",
       "      <td>3</td>\n",
       "      <td>4</td>\n",
       "      <td>5.0</td>\n",
       "      <td>1960</td>\n",
       "      <td>3779</td>\n",
       "      <td>20.561823</td>\n",
       "      <td>1.0</td>\n",
       "      <td>5</td>\n",
       "      <td>16</td>\n",
       "      <td>3433</td>\n",
       "      <td>4</td>\n",
       "      <td>34.463114</td>\n",
       "      <td>0</td>\n",
       "      <td>1</td>\n",
       "      <td>0</td>\n",
       "      <td>1</td>\n",
       "      <td>0</td>\n",
       "      <td>1</td>\n",
       "    </tr>\n",
       "    <tr>\n",
       "      <th>6087</th>\n",
       "      <td>90</td>\n",
       "      <td>0.265089</td>\n",
       "      <td>4</td>\n",
       "      <td>3</td>\n",
       "      <td>5.0</td>\n",
       "      <td>1966</td>\n",
       "      <td>3762</td>\n",
       "      <td>46.126389</td>\n",
       "      <td>3.0</td>\n",
       "      <td>2</td>\n",
       "      <td>37</td>\n",
       "      <td>5288</td>\n",
       "      <td>0</td>\n",
       "      <td>61.931107</td>\n",
       "      <td>0</td>\n",
       "      <td>1</td>\n",
       "      <td>0</td>\n",
       "      <td>1</td>\n",
       "      <td>0</td>\n",
       "      <td>1</td>\n",
       "    </tr>\n",
       "    <tr>\n",
       "      <th>6669</th>\n",
       "      <td>1</td>\n",
       "      <td>0.007122</td>\n",
       "      <td>8</td>\n",
       "      <td>0</td>\n",
       "      <td>17.0</td>\n",
       "      <td>1977</td>\n",
       "      <td>358</td>\n",
       "      <td>42.670840</td>\n",
       "      <td>1.0</td>\n",
       "      <td>1</td>\n",
       "      <td>1</td>\n",
       "      <td>264</td>\n",
       "      <td>0</td>\n",
       "      <td>42.670840</td>\n",
       "      <td>0</td>\n",
       "      <td>1</td>\n",
       "      <td>0</td>\n",
       "      <td>1</td>\n",
       "      <td>0</td>\n",
       "      <td>1</td>\n",
       "    </tr>\n",
       "  </tbody>\n",
       "</table>\n",
       "</div>"
      ],
      "text/plain": [
       "      DistrictId  Ecology_1  Floor  Helthcare_2  HouseFloor  HouseYear     Id  \\\n",
       "9254          58   0.437885      3            0         1.0       1977  12473   \n",
       "1561         146   0.236108      5            3        18.0       2017  14050   \n",
       "1670           5   0.150818      3            4         5.0       1960   3779   \n",
       "6087          90   0.265089      4            3         5.0       1966   3762   \n",
       "6669           1   0.007122      8            0        17.0       1977    358   \n",
       "\n",
       "      LifeSquare  Rooms  Shops_1  Social_1  Social_2  Social_3     Square  \\\n",
       "9254   62.798045    1.0        5        23      5735         3  65.271225   \n",
       "1561   43.816601    2.0       10        16      3893        27  45.091598   \n",
       "1670   20.561823    1.0        5        16      3433         4  34.463114   \n",
       "6087   46.126389    3.0        2        37      5288         0  61.931107   \n",
       "6669   42.670840    1.0        1         1       264         0  42.670840   \n",
       "\n",
       "      Ecology_2_A  Ecology_2_B  Ecology_3_A  Ecology_3_B  Shops_2_A  Shops_2_B  \n",
       "9254            0            1            0            1          0          1  \n",
       "1561            0            1            0            1          0          1  \n",
       "1670            0            1            0            1          0          1  \n",
       "6087            0            1            0            1          0          1  \n",
       "6669            0            1            0            1          0          1  "
      ]
     },
     "execution_count": 11,
     "metadata": {},
     "output_type": "execute_result"
    }
   ],
   "source": [
    "X_train.head()"
   ]
  },
  {
   "cell_type": "markdown",
   "metadata": {},
   "source": [
    "### Model/ RandomForestRegressor"
   ]
  },
  {
   "cell_type": "code",
   "execution_count": 12,
   "metadata": {},
   "outputs": [],
   "source": [
    "feats = ['DistrictId', 'Ecology_1','Floor', 'Helthcare_2', \n",
    "         'HouseFloor', 'HouseYear', 'LifeSquare', 'Rooms', \n",
    "         'Shops_1', 'Social_1', 'Social_2', 'Social_3', 'Square', \n",
    "         'Ecology_2_A', 'Ecology_2_B', 'Ecology_3_A', 'Ecology_3_B', 'Shops_2_A', 'Shops_2_B']"
   ]
  },
  {
   "cell_type": "code",
   "execution_count": 13,
   "metadata": {},
   "outputs": [
    {
     "data": {
      "text/plain": [
       "RandomForestRegressor(bootstrap=True, criterion='mse', max_depth=20,\n",
       "           max_features='auto', max_leaf_nodes=None,\n",
       "           min_impurity_decrease=0.0, min_impurity_split=None,\n",
       "           min_samples_leaf=1, min_samples_split=2,\n",
       "           min_weight_fraction_leaf=0.0, n_estimators=100, n_jobs=None,\n",
       "           oob_score=False, random_state=42, verbose=0, warm_start=False)"
      ]
     },
     "execution_count": 13,
     "metadata": {},
     "output_type": "execute_result"
    }
   ],
   "source": [
    "model = RandomForestRegressor(max_depth=20, random_state=42, n_estimators=100)\n",
    "model.fit(X_train.loc[:, feats], y_train)"
   ]
  },
  {
   "cell_type": "code",
   "execution_count": 14,
   "metadata": {},
   "outputs": [],
   "source": [
    "def get_prediction(ds, y, r2=False):\n",
    "    pred = model.predict(ds.loc[:, feats])\n",
    "    if r2:\n",
    "        print(r2_score(y, pred))\n",
    "    return pred"
   ]
  },
  {
   "cell_type": "code",
   "execution_count": 15,
   "metadata": {},
   "outputs": [
    {
     "name": "stdout",
     "output_type": "stream",
     "text": [
      "0.9606163073117645\n"
     ]
    }
   ],
   "source": [
    "pred_train = get_prediction(ds=X_train, y=y_train, r2=True)"
   ]
  },
  {
   "cell_type": "code",
   "execution_count": 16,
   "metadata": {},
   "outputs": [
    {
     "name": "stdout",
     "output_type": "stream",
     "text": [
      "0.7170523342490556\n"
     ]
    }
   ],
   "source": [
    "pred_valid = get_prediction(ds=X_valid, y=y_valid, r2=True)"
   ]
  }
 ],
 "metadata": {
  "kernelspec": {
   "display_name": "Python 3",
   "language": "python",
   "name": "python3"
  },
  "language_info": {
   "codemirror_mode": {
    "name": "ipython",
    "version": 3
   },
   "file_extension": ".py",
   "mimetype": "text/x-python",
   "name": "python",
   "nbconvert_exporter": "python",
   "pygments_lexer": "ipython3",
   "version": "3.7.1"
  }
 },
 "nbformat": 4,
 "nbformat_minor": 2
}
