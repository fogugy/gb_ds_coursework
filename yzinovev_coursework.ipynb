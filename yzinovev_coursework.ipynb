{
 "cells": [
  {
   "cell_type": "code",
   "execution_count": 1,
   "metadata": {},
   "outputs": [],
   "source": [
    "import numpy as np\n",
    "import pandas as pd\n",
    "import matplotlib.pyplot as plt\n",
    "from sklearn.datasets import load_boston\n",
    "from sklearn.model_selection import train_test_split, GridSearchCV\n",
    "from sklearn.linear_model import LinearRegression\n",
    "from sklearn.ensemble import RandomForestRegressor, RandomForestClassifier\n",
    "from sklearn.metrics import r2_score\n",
    "from sklearn import preprocessing"
   ]
  },
  {
   "cell_type": "code",
   "execution_count": 2,
   "metadata": {},
   "outputs": [],
   "source": [
    "%matplotlib inline"
   ]
  },
  {
   "cell_type": "code",
   "execution_count": 3,
   "metadata": {},
   "outputs": [],
   "source": [
    "data_train = pd.read_csv('./data/train.csv')\n",
    "data_test = pd.read_csv('./data/test.csv')"
   ]
  },
  {
   "cell_type": "markdown",
   "metadata": {},
   "source": [
    "### Split"
   ]
  },
  {
   "cell_type": "code",
   "execution_count": 4,
   "metadata": {},
   "outputs": [],
   "source": [
    "d_train, d_valid = train_test_split(data_train, test_size=0.2, random_state=42)"
   ]
  },
  {
   "cell_type": "markdown",
   "metadata": {},
   "source": [
    "### Plots functions"
   ]
  },
  {
   "cell_type": "code",
   "execution_count": 5,
   "metadata": {},
   "outputs": [],
   "source": [
    "def square_lifesquare(ds):\n",
    "    plt.xlabel('Square')\n",
    "    plt.ylabel('Life Square')\n",
    "    plt_ = plt.scatter(ds.Square, ds.LifeSquare)"
   ]
  },
  {
   "cell_type": "code",
   "execution_count": 6,
   "metadata": {},
   "outputs": [],
   "source": [
    "def floor_housefloor(ds):\n",
    "    plt.xlabel('House Floor')\n",
    "    plt.ylabel('Floor')\n",
    "    plt_ = plt.scatter(ds.HouseFloor, ds.Floor)"
   ]
  },
  {
   "cell_type": "code",
   "execution_count": 7,
   "metadata": {},
   "outputs": [],
   "source": [
    "def housefloor_year(ds):\n",
    "    plt.ylabel('HouseFloor')\n",
    "    plt.xlabel('HouseYear')\n",
    "    plt_ = plt.scatter(ds.HouseYear, ds.HouseFloor)"
   ]
  },
  {
   "cell_type": "code",
   "execution_count": 8,
   "metadata": {},
   "outputs": [],
   "source": [
    "def housefloor_floor(ds):\n",
    "    plt.xlabel('HouseFloor')\n",
    "    plt.ylabel('Floor')\n",
    "    plt_ = plt.scatter(ds.HouseFloor, ds.Floor)"
   ]
  },
  {
   "cell_type": "markdown",
   "metadata": {},
   "source": [
    "### Data preparing"
   ]
  },
  {
   "cell_type": "markdown",
   "metadata": {},
   "source": [
    "#### Simple functions (no mean or any statistics)"
   ]
  },
  {
   "cell_type": "code",
   "execution_count": 9,
   "metadata": {},
   "outputs": [],
   "source": [
    "def set_dummies(ds):\n",
    "    return pd.get_dummies(ds)"
   ]
  },
  {
   "cell_type": "code",
   "execution_count": 10,
   "metadata": {},
   "outputs": [],
   "source": [
    "def set_square(ds):\n",
    "    ds.Square = np.where(ds.Square < 12, ds.Square * 10, ds.Square)\n",
    "    return ds"
   ]
  },
  {
   "cell_type": "code",
   "execution_count": 11,
   "metadata": {},
   "outputs": [],
   "source": [
    "def fill_lifesquare(ds):\n",
    "    ds.LifeSquare = ds.LifeSquare.fillna(1)\n",
    "    ds.LifeSquare = np.where((ds.LifeSquare < 8) | (ds.LifeSquare > ds.Square), ds.Square, ds.LifeSquare)\n",
    "    return ds"
   ]
  },
  {
   "cell_type": "code",
   "execution_count": 12,
   "metadata": {},
   "outputs": [],
   "source": [
    "def clear_year(ds):\n",
    "    ds.HouseYear = np.where(ds.HouseYear > 2020, 2020, ds.HouseYear)\n",
    "    ds.HouseYear = np.where(ds.HouseYear < 1900, 1900, ds.HouseYear)\n",
    "    return ds"
   ]
  },
  {
   "cell_type": "code",
   "execution_count": 13,
   "metadata": {},
   "outputs": [],
   "source": [
    "def set_floors(ds):\n",
    "    ds.HouseFloor = np.where(ds.HouseFloor == 0, ds['mean_hfloor_year_dist'], ds.HouseFloor)\n",
    "    ds.Floor = np.where(ds.Floor > ds.HouseFloor, ds.HouseFloor, ds.Floor)\n",
    "    ds.Floor = np.where(ds.Floor == 0, 1, ds.Floor)\n",
    "    return ds"
   ]
  },
  {
   "cell_type": "markdown",
   "metadata": {},
   "source": [
    "#### Statictics, merging"
   ]
  },
  {
   "cell_type": "markdown",
   "metadata": {},
   "source": [
    "Price stats for DistrictId, HouseYear"
   ]
  },
  {
   "cell_type": "code",
   "execution_count": 14,
   "metadata": {},
   "outputs": [],
   "source": [
    "# mean_price_districtid\n",
    "s12 = d_train.groupby(['DistrictId'], as_index=False)[['Price']].mean().rename(columns={'Price':'mean_price_districtid'})\n",
    "# mean_price_houseyear\n",
    "s13 = d_train.groupby(['HouseYear'], as_index=False)[['Price']].mean().rename(columns={'Price':'mean_price_houseyear'})\n",
    "\n",
    "def price_hyear_dist_stat(ds):\n",
    "    ds = pd.merge(ds, s12, on=['DistrictId'], how='left')\n",
    "    ds = pd.merge(ds, s13, on=['HouseYear'], how='left')\n",
    "    ds['mean_price_districtid'] = ds['mean_price_districtid'].fillna(s12['mean_price_districtid'].mean())\n",
    "    ds['mean_price_houseyear'] = ds['mean_price_houseyear'].fillna(s13['mean_price_houseyear'].mean())\n",
    "    return ds"
   ]
  },
  {
   "cell_type": "markdown",
   "metadata": {},
   "source": [
    "Mean square for District and HouseYear"
   ]
  },
  {
   "cell_type": "code",
   "execution_count": 15,
   "metadata": {},
   "outputs": [],
   "source": [
    "# mean_sq_dist_hyear\n",
    "s21 = d_train.groupby(['DistrictId', 'HouseYear'], as_index=False)[['Square']].mean().rename(columns={'Square':'mean_sq_dist_hyear'})\n",
    "# mean_sq_dist\n",
    "s22 = d_train.groupby(['DistrictId'], as_index=False)[['Square']].mean().rename(columns={'Square':'mean_sq_dist'})\n",
    "# mean_sq_hyear\n",
    "s23 = d_train.groupby(['HouseYear'], as_index=False)[['Square']].mean().rename(columns={'Square':'mean_sq_hyear'})\n",
    "\n",
    "def square_hyear_dist_stat(ds):\n",
    "    ds = pd.merge(ds, s21, on=['DistrictId', 'HouseYear'], how='left')\n",
    "    ds = pd.merge(ds, s22, on=['DistrictId'], how='left')\n",
    "    ds = pd.merge(ds, s23, on=['HouseYear'], how='left')\n",
    "    ds['mean_sq_dist_hyear'] = ds['mean_sq_dist_hyear'].fillna(s21['mean_sq_dist_hyear'].mean())\n",
    "    ds['mean_sq_dist'] = ds['mean_sq_dist'].fillna(s22['mean_sq_dist'].mean())\n",
    "    ds['mean_sq_hyear'] = ds['mean_sq_hyear'].fillna(s23['mean_sq_hyear'].mean())\n",
    "    return ds"
   ]
  },
  {
   "cell_type": "markdown",
   "metadata": {},
   "source": [
    "Price for one square meter by district and houseyear"
   ]
  },
  {
   "cell_type": "code",
   "execution_count": 16,
   "metadata": {},
   "outputs": [
    {
     "name": "stderr",
     "output_type": "stream",
     "text": [
      "/home/fogugy/anaconda3/lib/python3.6/site-packages/ipykernel_launcher.py:1: SettingWithCopyWarning: \n",
      "A value is trying to be set on a copy of a slice from a DataFrame.\n",
      "Try using .loc[row_indexer,col_indexer] = value instead\n",
      "\n",
      "See the caveats in the documentation: http://pandas.pydata.org/pandas-docs/stable/indexing.html#indexing-view-versus-copy\n",
      "  \"\"\"Entry point for launching an IPython kernel.\n"
     ]
    }
   ],
   "source": [
    "d_train['square_meter_price'] = d_train.Price / d_train.Square\n",
    "\n",
    "# mean_sq_unit_dist_hyear\n",
    "s31 = d_train.groupby(['DistrictId', 'HouseYear'], as_index=False)[['square_meter_price']].mean().rename(columns={'square_meter_price':'mean_sq_unit_dist_hyear'})\n",
    "# mean_sq_unit_dist\n",
    "s32 = d_train.groupby(['DistrictId'], as_index=False)[['square_meter_price']].mean().rename(columns={'square_meter_price':'mean_sq_unit_dist'})\n",
    "# mean_sq_unit_hyear\n",
    "s33 = d_train.groupby(['HouseYear'], as_index=False)[['square_meter_price']].mean().rename(columns={'square_meter_price':'mean_sq_unit_hyear'})\n",
    "\n",
    "def square_unit_hyear_dist_stat(ds):\n",
    "    ds = pd.merge(ds, s31, on=['DistrictId', 'HouseYear'], how='left')\n",
    "    ds = pd.merge(ds, s32, on=['DistrictId'], how='left')\n",
    "    ds = pd.merge(ds, s33, on=['HouseYear'], how='left')\n",
    "    ds['mean_sq_unit_dist_hyear'] = ds['mean_sq_unit_dist_hyear'].fillna(s31['mean_sq_unit_dist_hyear'].mean())\n",
    "    ds['mean_sq_unit_dist'] = ds['mean_sq_unit_dist'].fillna(s32['mean_sq_unit_dist'].mean())\n",
    "    ds['mean_sq_unit_hyear'] = ds['mean_sq_unit_hyear'].fillna(s33['mean_sq_unit_hyear'].mean())\n",
    "    return ds"
   ]
  },
  {
   "cell_type": "markdown",
   "metadata": {},
   "source": [
    "HouseFloor stats for Year, DistrictId"
   ]
  },
  {
   "cell_type": "code",
   "execution_count": 17,
   "metadata": {},
   "outputs": [],
   "source": [
    "nice_ = d_train[(d_train.HouseFloor > 0) & (d_train.HouseFloor < 40)]\n",
    "# mean_hfloor_year_dist\n",
    "s41 = nice_.groupby(['DistrictId', 'HouseYear'], as_index=False)[['HouseFloor']].mean().rename(columns={'HouseFloor':'mean_hfloor_year_dist'})\n",
    "\n",
    "def hfloor_hyear_dist_stat(ds):\n",
    "    ds = pd.merge(ds, s41, on=['HouseYear', 'DistrictId'], how='left')\n",
    "    ds['mean_hfloor_year_dist'] = ds['mean_hfloor_year_dist'].fillna(s41['mean_hfloor_year_dist'].mean())\n",
    "    return ds"
   ]
  },
  {
   "cell_type": "code",
   "execution_count": 18,
   "metadata": {},
   "outputs": [],
   "source": [
    "def prepare(ds):\n",
    "    ds = set_dummies(ds)\n",
    "    ds = set_square(ds)\n",
    "    ds = fill_lifesquare(ds)\n",
    "    ds = clear_year(ds)\n",
    "    \n",
    "    ds = price_hyear_dist_stat(ds)\n",
    "    ds = hfloor_hyear_dist_stat(ds)\n",
    "    ds = square_hyear_dist_stat(ds)\n",
    "    ds = square_unit_hyear_dist_stat(ds)\n",
    "    \n",
    "    ds = set_floors(ds)\n",
    "    \n",
    "    return ds"
   ]
  },
  {
   "cell_type": "code",
   "execution_count": 19,
   "metadata": {},
   "outputs": [],
   "source": [
    "d_train = prepare(d_train)\n",
    "d_valid = prepare(d_valid)"
   ]
  },
  {
   "cell_type": "markdown",
   "metadata": {},
   "source": [
    "#### Visual analisis after data preparation"
   ]
  },
  {
   "cell_type": "code",
   "execution_count": 20,
   "metadata": {
    "scrolled": true
   },
   "outputs": [
    {
     "data": {
      "image/png": "[encoded data removed]",
      "text/plain": [
       "<Figure size 432x288 with 1 Axes>"
      ]
     },
     "metadata": {},
     "output_type": "display_data"
    }
   ],
   "source": [
    "square_lifesquare(d_train)\n",
    "square_lifesquare(d_valid)"
   ]
  },
  {
   "cell_type": "code",
   "execution_count": 21,
   "metadata": {
    "scrolled": false
   },
   "outputs": [
    {
     "data": {
      "image/png": "[encoded data removed]",
      "text/plain": [
       "<Figure size 432x288 with 1 Axes>"
      ]
     },
     "metadata": {},
     "output_type": "display_data"
    }
   ],
   "source": [
    "floor_housefloor(d_train)\n",
    "floor_housefloor(d_valid)"
   ]
  },
  {
   "cell_type": "code",
   "execution_count": 22,
   "metadata": {
    "scrolled": true
   },
   "outputs": [
    {
     "data": {
      "image/png": "[encoded data removed]",
      "text/plain": [
       "<Figure size 432x288 with 1 Axes>"
      ]
     },
     "metadata": {},
     "output_type": "display_data"
    }
   ],
   "source": [
    "housefloor_year(d_train)\n",
    "housefloor_year(d_valid)"
   ]
  },
  {
   "cell_type": "markdown",
   "metadata": {},
   "source": [
    "### Model"
   ]
  },
  {
   "cell_type": "code",
   "execution_count": 23,
   "metadata": {},
   "outputs": [],
   "source": [
    "feats_original = ['DistrictId', 'Rooms', 'Square', 'LifeSquare', 'Floor',\n",
    "         'HouseFloor', 'HouseYear', 'Ecology_1',\n",
    "         'Social_1', 'Social_2', 'Social_3', 'Helthcare_2', 'Shops_1']\n",
    "feats_dummies = ['Ecology_2_A', 'Ecology_2_B', 'Ecology_3_A', 'Ecology_3_B', 'Shops_2_A', 'Shops_2_B']\n",
    "\n",
    "feats_stat_price = ['mean_price_districtid', 'mean_price_houseyear']\n",
    "feats_stat_square = ['mean_sq_dist', 'mean_sq_hyear']\n",
    "feats_stat_price_unit = ['mean_sq_unit_dist', 'mean_sq_unit_hyear']\n",
    "feats_stat_floor = ['mean_hfloor_year_dist']\n",
    "feats_stat = feats_stat_price + feats_stat_square + feats_stat_price_unit\n",
    "\n",
    "feats = feats_original + feats_dummies + feats_stat"
   ]
  },
  {
   "cell_type": "markdown",
   "metadata": {},
   "source": [
    "#### RandomForestRegressor"
   ]
  },
  {
   "cell_type": "code",
   "execution_count": 24,
   "metadata": {},
   "outputs": [
    {
     "data": {
      "text/plain": [
       "RandomForestRegressor(bootstrap=True, criterion='mse', max_depth=8,\n",
       "           max_features='auto', max_leaf_nodes=None,\n",
       "           min_impurity_decrease=0.0, min_impurity_split=None,\n",
       "           min_samples_leaf=1, min_samples_split=2,\n",
       "           min_weight_fraction_leaf=0.0, n_estimators=50, n_jobs=1,\n",
       "           oob_score=False, random_state=42, verbose=0, warm_start=False)"
      ]
     },
     "execution_count": 24,
     "metadata": {},
     "output_type": "execute_result"
    }
   ],
   "source": [
    "model = RandomForestRegressor(max_depth=8, random_state=42, n_estimators=50)\n",
    "model.fit(d_train.loc[:, feats], d_train.Price)"
   ]
  },
  {
   "cell_type": "code",
   "execution_count": 25,
   "metadata": {},
   "outputs": [],
   "source": [
    "def get_prediction(ds, y=None, r2=False):\n",
    "    pred = model.predict(ds.loc[:, feats])\n",
    "    if r2:\n",
    "        print('R2:', r2_score(y, pred))\n",
    "    return pred"
   ]
  },
  {
   "cell_type": "code",
   "execution_count": 26,
   "metadata": {},
   "outputs": [
    {
     "name": "stdout",
     "output_type": "stream",
     "text": [
      "R2: 0.8485297969485909\n"
     ]
    }
   ],
   "source": [
    "pred_train = get_prediction(ds=d_train, y=d_train.Price, r2=True)"
   ]
  },
  {
   "cell_type": "code",
   "execution_count": 27,
   "metadata": {},
   "outputs": [
    {
     "name": "stdout",
     "output_type": "stream",
     "text": [
      "R2: 0.7102143764094584\n"
     ]
    }
   ],
   "source": [
    "pred_valid = get_prediction(ds=d_valid, y=d_valid.Price, r2=True)"
   ]
  },
  {
   "cell_type": "code",
   "execution_count": 28,
   "metadata": {},
   "outputs": [
    {
     "data": {
      "text/html": [
       "<div>\n",
       "<style scoped>\n",
       "    .dataframe tbody tr th:only-of-type {\n",
       "        vertical-align: middle;\n",
       "    }\n",
       "\n",
       "    .dataframe tbody tr th {\n",
       "        vertical-align: top;\n",
       "    }\n",
       "\n",
       "    .dataframe thead th {\n",
       "        text-align: right;\n",
       "    }\n",
       "</style>\n",
       "<table border=\"1\" class=\"dataframe\">\n",
       "  <thead>\n",
       "    <tr style=\"text-align: right;\">\n",
       "      <th></th>\n",
       "      <th>feat</th>\n",
       "      <th>importance</th>\n",
       "    </tr>\n",
       "  </thead>\n",
       "  <tbody>\n",
       "    <tr>\n",
       "      <th>2</th>\n",
       "      <td>Square</td>\n",
       "      <td>0.449027</td>\n",
       "    </tr>\n",
       "    <tr>\n",
       "      <th>23</th>\n",
       "      <td>mean_sq_unit_dist</td>\n",
       "      <td>0.241400</td>\n",
       "    </tr>\n",
       "    <tr>\n",
       "      <th>19</th>\n",
       "      <td>mean_price_districtid</td>\n",
       "      <td>0.146952</td>\n",
       "    </tr>\n",
       "    <tr>\n",
       "      <th>1</th>\n",
       "      <td>Rooms</td>\n",
       "      <td>0.031574</td>\n",
       "    </tr>\n",
       "    <tr>\n",
       "      <th>3</th>\n",
       "      <td>LifeSquare</td>\n",
       "      <td>0.018042</td>\n",
       "    </tr>\n",
       "    <tr>\n",
       "      <th>24</th>\n",
       "      <td>mean_sq_unit_hyear</td>\n",
       "      <td>0.017594</td>\n",
       "    </tr>\n",
       "    <tr>\n",
       "      <th>20</th>\n",
       "      <td>mean_price_houseyear</td>\n",
       "      <td>0.016841</td>\n",
       "    </tr>\n",
       "    <tr>\n",
       "      <th>10</th>\n",
       "      <td>Social_3</td>\n",
       "      <td>0.010937</td>\n",
       "    </tr>\n",
       "    <tr>\n",
       "      <th>8</th>\n",
       "      <td>Social_1</td>\n",
       "      <td>0.009848</td>\n",
       "    </tr>\n",
       "    <tr>\n",
       "      <th>9</th>\n",
       "      <td>Social_2</td>\n",
       "      <td>0.009055</td>\n",
       "    </tr>\n",
       "  </tbody>\n",
       "</table>\n",
       "</div>"
      ],
      "text/plain": [
       "                     feat  importance\n",
       "2                  Square    0.449027\n",
       "23      mean_sq_unit_dist    0.241400\n",
       "19  mean_price_districtid    0.146952\n",
       "1                   Rooms    0.031574\n",
       "3              LifeSquare    0.018042\n",
       "24     mean_sq_unit_hyear    0.017594\n",
       "20   mean_price_houseyear    0.016841\n",
       "10               Social_3    0.010937\n",
       "8                Social_1    0.009848\n",
       "9                Social_2    0.009055"
      ]
     },
     "execution_count": 28,
     "metadata": {},
     "output_type": "execute_result"
    }
   ],
   "source": [
    "feat_imp = pd.DataFrame({'feat': feats, 'importance': model.feature_importances_})\n",
    "feat_imp.sort_values('importance', ascending=False).head(10)"
   ]
  },
  {
   "cell_type": "markdown",
   "metadata": {},
   "source": [
    "### test.csv"
   ]
  },
  {
   "cell_type": "code",
   "execution_count": 29,
   "metadata": {},
   "outputs": [],
   "source": [
    "data_test = prepare(data_test)"
   ]
  },
  {
   "cell_type": "code",
   "execution_count": 30,
   "metadata": {},
   "outputs": [],
   "source": [
    "data_test['Price'] = get_prediction(data_test)"
   ]
  },
  {
   "cell_type": "code",
   "execution_count": 31,
   "metadata": {},
   "outputs": [
    {
     "data": {
      "image/png": "[encoded data removed]",
      "text/plain": [
       "<Figure size 432x288 with 1 Axes>"
      ]
     },
     "metadata": {},
     "output_type": "display_data"
    }
   ],
   "source": [
    "fig, ax = plt.subplots(1, 1)\n",
    "hist_data = (pred_train, pred_valid, data_test.Price)\n",
    "color = ['green', 'fuchsia', 'blue']\n",
    "h_ = ax.hist(hist_data, bins=15, density=1, color=color, edgecolor='white', linewidth=0.2)\n",
    "ax.set_xlabel('predictions')\n",
    "ax.legend(('train', 'valid', 'test'), loc='upper right')\n",
    "None"
   ]
  },
  {
   "cell_type": "code",
   "execution_count": 32,
   "metadata": {},
   "outputs": [],
   "source": [
    "data_test.loc[:, ['Id', 'Price']].to_csv('./data/YZinovev_predictions.csv', index=False)"
   ]
  }
 ],
 "metadata": {
  "kernelspec": {
   "display_name": "Python 3",
   "language": "python",
   "name": "python3"
  },
  "language_info": {
   "codemirror_mode": {
    "name": "ipython",
    "version": 3
   },
   "file_extension": ".py",
   "mimetype": "text/x-python",
   "name": "python",
   "nbconvert_exporter": "python",
   "pygments_lexer": "ipython3",
   "version": "3.6.5"
  }
 },
 "nbformat": 4,
 "nbformat_minor": 2
}
