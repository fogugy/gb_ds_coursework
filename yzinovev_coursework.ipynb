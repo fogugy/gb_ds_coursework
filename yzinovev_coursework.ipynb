{
 "cells": [
  {
   "cell_type": "code",
   "execution_count": 1,
   "metadata": {},
   "outputs": [],
   "source": [
    "import numpy as np\n",
    "import pandas as pd\n",
    "import matplotlib.pyplot as plt\n",
    "from sklearn.datasets import load_boston\n",
    "from sklearn.model_selection import train_test_split, GridSearchCV\n",
    "from sklearn.linear_model import LinearRegression\n",
    "from sklearn.ensemble import RandomForestRegressor, RandomForestClassifier\n",
    "from sklearn.metrics import r2_score\n",
    "from sklearn import preprocessing"
   ]
  },
  {
   "cell_type": "code",
   "execution_count": 2,
   "metadata": {},
   "outputs": [],
   "source": [
    "%matplotlib inline"
   ]
  },
  {
   "cell_type": "code",
   "execution_count": 3,
   "metadata": {},
   "outputs": [],
   "source": [
    "data_train = pd.read_csv('./data/train.csv')\n",
    "data_test = pd.read_csv('./data/test.csv')"
   ]
  },
  {
   "cell_type": "markdown",
   "metadata": {},
   "source": [
    "### Split"
   ]
  },
  {
   "cell_type": "code",
   "execution_count": 4,
   "metadata": {},
   "outputs": [
    {
     "name": "stdout",
     "output_type": "stream",
     "text": [
      "<class 'pandas.core.frame.DataFrame'>\n",
      "Int64Index: 8000 entries, 9254 to 7270\n",
      "Data columns (total 19 columns):\n",
      "DistrictId       8000 non-null int64\n",
      "Ecology_1        8000 non-null float64\n",
      "Ecology_2        8000 non-null object\n",
      "Ecology_3        8000 non-null object\n",
      "Floor            8000 non-null int64\n",
      "Healthcare_1     4148 non-null float64\n",
      "Helthcare_2      8000 non-null int64\n",
      "HouseFloor       8000 non-null float64\n",
      "HouseYear        8000 non-null int64\n",
      "Id               8000 non-null int64\n",
      "KitchenSquare    8000 non-null float64\n",
      "LifeSquare       6299 non-null float64\n",
      "Rooms            8000 non-null float64\n",
      "Shops_1          8000 non-null int64\n",
      "Shops_2          8000 non-null object\n",
      "Social_1         8000 non-null int64\n",
      "Social_2         8000 non-null int64\n",
      "Social_3         8000 non-null int64\n",
      "Square           8000 non-null float64\n",
      "dtypes: float64(7), int64(9), object(3)\n",
      "memory usage: 1.2+ MB\n"
     ]
    }
   ],
   "source": [
    "X = data_train[data_train.columns.difference(['Price'])]\n",
    "y = data_train.Price\n",
    "X_train, X_valid, y_train, y_valid = train_test_split(X, y, test_size=0.2, random_state=42)\n",
    "X_train.info()"
   ]
  },
  {
   "cell_type": "markdown",
   "metadata": {},
   "source": [
    "### Plots functions"
   ]
  },
  {
   "cell_type": "code",
   "execution_count": 5,
   "metadata": {},
   "outputs": [],
   "source": [
    "def square_lifesquare(ds):\n",
    "    plt.xlabel('Square')\n",
    "    plt.ylabel('Life Square')\n",
    "    plt_ = plt.scatter(ds.Square, ds.LifeSquare)"
   ]
  },
  {
   "cell_type": "code",
   "execution_count": 6,
   "metadata": {},
   "outputs": [],
   "source": [
    "def floor_housefloor(ds):\n",
    "    plt.xlabel('House Floor')\n",
    "    plt.ylabel('Floor')\n",
    "    plt_ = plt.scatter(ds.HouseFloor, ds.Floor)"
   ]
  },
  {
   "cell_type": "code",
   "execution_count": 7,
   "metadata": {},
   "outputs": [],
   "source": [
    "def housefloor_year(ds):\n",
    "    plt.ylabel('HouseFloor')\n",
    "    plt.xlabel('HouseYear')\n",
    "    plt_ = plt.scatter(ds.HouseYear, ds.HouseFloor)"
   ]
  },
  {
   "cell_type": "code",
   "execution_count": 8,
   "metadata": {},
   "outputs": [],
   "source": [
    "def housefloor_floor(ds):\n",
    "    plt.xlabel('HouseFloor')\n",
    "    plt.ylabel('Floor')\n",
    "    plt_ = plt.scatter(ds.HouseFloor, ds.Floor)"
   ]
  },
  {
   "cell_type": "markdown",
   "metadata": {},
   "source": [
    "### Data preparing"
   ]
  },
  {
   "cell_type": "markdown",
   "metadata": {},
   "source": [
    "#### Simple functions (no mean or any statistics)"
   ]
  },
  {
   "cell_type": "code",
   "execution_count": 9,
   "metadata": {},
   "outputs": [],
   "source": [
    "def set_dummies(ds):\n",
    "    return pd.get_dummies(ds)"
   ]
  },
  {
   "cell_type": "code",
   "execution_count": 10,
   "metadata": {},
   "outputs": [],
   "source": [
    "def fill_lifesquare(ds):\n",
    "    ds.LifeSquare = ds.LifeSquare.fillna(1)\n",
    "    ds.LifeSquare = np.where((ds.LifeSquare < 8) | (ds.LifeSquare > ds.Square), ds.Square, ds.LifeSquare)\n",
    "    return ds"
   ]
  },
  {
   "cell_type": "code",
   "execution_count": 11,
   "metadata": {},
   "outputs": [],
   "source": [
    "def clear_year(ds):\n",
    "    ds.HouseYear = np.where(ds.HouseYear > 2020, 2020, ds.HouseYear)\n",
    "    ds.HouseYear = np.where(ds.HouseYear < 1900, 1900, ds.HouseYear)\n",
    "    return ds"
   ]
  },
  {
   "cell_type": "code",
   "execution_count": 12,
   "metadata": {},
   "outputs": [],
   "source": [
    "def set_floors(ds):\n",
    "    ds.HouseFloor = np.where(ds.HouseFloor == 0, ds['mean_hfloor_year_dist'], ds.HouseFloor)\n",
    "    ds.Floor = np.where(ds.Floor > ds.HouseFloor, ds.HouseFloor, ds.Floor)\n",
    "    return ds"
   ]
  },
  {
   "cell_type": "markdown",
   "metadata": {},
   "source": [
    "#### Statictics, merging"
   ]
  },
  {
   "cell_type": "code",
   "execution_count": 13,
   "metadata": {},
   "outputs": [],
   "source": [
    "# Price stats for DistrictId, HouseYear\n",
    "X_with_price = X_train.copy()\n",
    "X_with_price.loc[:, 'Price'] = y_train\n",
    "# mean_price_districtid\n",
    "s2 = X_with_price.groupby(['DistrictId'], as_index=False)[['Price']].mean().rename(columns={'Price':'mean_price_districtid'})\n",
    "# mean_price_houseyear\n",
    "s3 = X_with_price.groupby(['HouseYear'], as_index=False)[['Price']].mean().rename(columns={'Price':'mean_price_houseyear'})\n",
    "\n",
    "def price_hyear_dist_stat(ds):\n",
    "    ds = pd.merge(ds, s2, on=['DistrictId'], how='left')\n",
    "    ds = pd.merge(ds, s3, on=['HouseYear'], how='left')\n",
    "    ds['mean_price_districtid'] = ds['mean_price_districtid'].fillna(s2['mean_price_districtid'].mean())\n",
    "    ds['mean_price_houseyear'] = ds['mean_price_houseyear'].fillna(s3['mean_price_houseyear'].mean())\n",
    "    return ds"
   ]
  },
  {
   "cell_type": "code",
   "execution_count": 14,
   "metadata": {},
   "outputs": [],
   "source": [
    "# HouseFloor stats for Year, DistrictId\n",
    "nice_ = X_train[(X_train.HouseFloor > 0) & (X_train.HouseFloor < 40)]\n",
    "# mean_hfloor_year_dist\n",
    "s1 = nice_.groupby(['DistrictId', 'HouseYear'], as_index=False)[['HouseFloor']].mean().rename(columns={'HouseFloor':'mean_hfloor_year_dist'})\n",
    "\n",
    "def hfloor_hyear_dist_stat(ds):\n",
    "    ds = pd.merge(ds, s1, on=['HouseYear', 'DistrictId'], how='left')\n",
    "    ds['mean_hfloor_year_dist'] = ds['mean_hfloor_year_dist'].fillna(s1['mean_hfloor_year_dist'].mean())\n",
    "    return ds"
   ]
  },
  {
   "cell_type": "code",
   "execution_count": 15,
   "metadata": {},
   "outputs": [],
   "source": [
    "def prepare(ds):\n",
    "    ds = set_dummies(ds)\n",
    "    ds = fill_lifesquare(ds)\n",
    "    ds = clear_year(ds)\n",
    "    \n",
    "    ds = price_hyear_dist_stat(ds)\n",
    "    ds = hfloor_hyear_dist_stat(ds)\n",
    "    \n",
    "    ds = set_floors(ds)\n",
    "    \n",
    "    return ds"
   ]
  },
  {
   "cell_type": "code",
   "execution_count": 16,
   "metadata": {},
   "outputs": [],
   "source": [
    "X_train = prepare(X_train)\n",
    "X_valid = prepare(X_valid)"
   ]
  },
  {
   "cell_type": "markdown",
   "metadata": {},
   "source": [
    "#### Visual analisis after data preparation"
   ]
  },
  {
   "cell_type": "code",
   "execution_count": 17,
   "metadata": {
    "scrolled": true
   },
   "outputs": [
    {
     "data": {
      "image/png": "[encoded data removed]",
      "text/plain": [
       "<Figure size 432x288 with 1 Axes>"
      ]
     },
     "metadata": {
      "needs_background": "light"
     },
     "output_type": "display_data"
    }
   ],
   "source": [
    "square_lifesquare(X_train)\n",
    "square_lifesquare(X_valid)"
   ]
  },
  {
   "cell_type": "code",
   "execution_count": 18,
   "metadata": {
    "scrolled": false
   },
   "outputs": [
    {
     "data": {
      "image/png": "[encoded data removed]",
      "text/plain": [
       "<Figure size 432x288 with 1 Axes>"
      ]
     },
     "metadata": {
      "needs_background": "light"
     },
     "output_type": "display_data"
    }
   ],
   "source": [
    "floor_housefloor(X_train)\n",
    "floor_housefloor(X_valid)"
   ]
  },
  {
   "cell_type": "code",
   "execution_count": 19,
   "metadata": {
    "scrolled": true
   },
   "outputs": [
    {
     "data": {
      "image/png": "[encoded data removed]",
      "text/plain": [
       "<Figure size 432x288 with 1 Axes>"
      ]
     },
     "metadata": {
      "needs_background": "light"
     },
     "output_type": "display_data"
    }
   ],
   "source": [
    "housefloor_year(X_train)\n",
    "housefloor_year(X_valid)"
   ]
  },
  {
   "cell_type": "code",
   "execution_count": 20,
   "metadata": {},
   "outputs": [
    {
     "data": {
      "text/plain": [
       "count    8000.000000\n",
       "mean     1984.962875\n",
       "std        18.372376\n",
       "min      1912.000000\n",
       "25%      1974.000000\n",
       "50%      1977.000000\n",
       "75%      2001.000000\n",
       "max      2020.000000\n",
       "Name: HouseYear, dtype: float64"
      ]
     },
     "execution_count": 20,
     "metadata": {},
     "output_type": "execute_result"
    }
   ],
   "source": [
    "X_train.HouseYear.describe()"
   ]
  },
  {
   "cell_type": "markdown",
   "metadata": {},
   "source": [
    "### Model"
   ]
  },
  {
   "cell_type": "code",
   "execution_count": 21,
   "metadata": {},
   "outputs": [],
   "source": [
    "feats_original = ['DistrictId', 'Rooms', 'Square', 'LifeSquare', 'Floor',\n",
    "         'HouseFloor', 'HouseYear', 'Ecology_1',\n",
    "         'Social_1', 'Social_2', 'Social_3', 'Helthcare_2', 'Shops_1']\n",
    "feats_dummies = ['Ecology_2_A', 'Ecology_2_B', 'Ecology_3_A', 'Ecology_3_B', 'Shops_2_A', 'Shops_2_B']\n",
    "feats_stat_price = ['mean_price_districtid', 'mean_price_houseyear']\n",
    "feats_stat_floor = ['mean_hfloor_year_dist']\n",
    "feats_stat = feats_stat_price\n",
    "feats = feats_original + feats_dummies + feats_stat"
   ]
  },
  {
   "cell_type": "markdown",
   "metadata": {},
   "source": [
    "#### RandomForestRegressor"
   ]
  },
  {
   "cell_type": "code",
   "execution_count": 22,
   "metadata": {},
   "outputs": [
    {
     "data": {
      "text/plain": [
       "RandomForestRegressor(bootstrap=True, criterion='mse', max_depth=12,\n",
       "           max_features='auto', max_leaf_nodes=None,\n",
       "           min_impurity_decrease=0.0, min_impurity_split=None,\n",
       "           min_samples_leaf=1, min_samples_split=2,\n",
       "           min_weight_fraction_leaf=0.0, n_estimators=50, n_jobs=None,\n",
       "           oob_score=False, random_state=42, verbose=0, warm_start=False)"
      ]
     },
     "execution_count": 22,
     "metadata": {},
     "output_type": "execute_result"
    }
   ],
   "source": [
    "model = RandomForestRegressor(max_depth=12, random_state=42, n_estimators=50)\n",
    "model.fit(X_train.loc[:, feats], y_train)"
   ]
  },
  {
   "cell_type": "code",
   "execution_count": 23,
   "metadata": {},
   "outputs": [],
   "source": [
    "def get_prediction(ds, y=None, r2=False):\n",
    "    pred = model.predict(ds.loc[:, feats])\n",
    "    if r2:\n",
    "        print('R2:', r2_score(y, pred))\n",
    "    return pred"
   ]
  },
  {
   "cell_type": "code",
   "execution_count": 24,
   "metadata": {},
   "outputs": [
    {
     "name": "stdout",
     "output_type": "stream",
     "text": [
      "0.9218990324168093\n"
     ]
    }
   ],
   "source": [
    "pred_train = get_prediction(ds=X_train, y=y_train, r2=True)"
   ]
  },
  {
   "cell_type": "code",
   "execution_count": 25,
   "metadata": {},
   "outputs": [
    {
     "name": "stdout",
     "output_type": "stream",
     "text": [
      "0.7201212464605812\n"
     ]
    }
   ],
   "source": [
    "pred_valid = get_prediction(ds=X_valid, y=y_valid, r2=True)"
   ]
  },
  {
   "cell_type": "markdown",
   "metadata": {},
   "source": [
    "### test.csv"
   ]
  },
  {
   "cell_type": "code",
   "execution_count": 26,
   "metadata": {},
   "outputs": [],
   "source": [
    "data_test = prepare(data_test)"
   ]
  },
  {
   "cell_type": "code",
   "execution_count": 27,
   "metadata": {},
   "outputs": [],
   "source": [
    "data_test['Price'] = get_prediction(data_test)"
   ]
  },
  {
   "cell_type": "code",
   "execution_count": 52,
   "metadata": {},
   "outputs": [
    {
     "data": {
      "image/png": "[encoded data removed]",
      "text/plain": [
       "<Figure size 432x288 with 1 Axes>"
      ]
     },
     "metadata": {
      "needs_background": "light"
     },
     "output_type": "display_data"
    }
   ],
   "source": [
    "fig, ax = plt.subplots(1, 1)\n",
    "hist_data = (pred_train, pred_valid, data_test.Price)\n",
    "color = ['green', 'fuchsia', 'blue']\n",
    "h_ = ax.hist(hist_data, bins=15, density=1, color=color, edgecolor='white', linewidth=0.2)\n",
    "ax.set_xlabel('predictions')\n",
    "ax.legend(('train', 'valid', 'test'), loc='upper right')\n",
    "None"
   ]
  },
  {
   "cell_type": "code",
   "execution_count": 63,
   "metadata": {},
   "outputs": [],
   "source": [
    "data_test.loc[:, ['Id', 'Price']].to_csv('./data/YZinovev_predictions.csv', index=False)"
   ]
  }
 ],
 "metadata": {
  "kernelspec": {
   "display_name": "Python 3",
   "language": "python",
   "name": "python3"
  },
  "language_info": {
   "codemirror_mode": {
    "name": "ipython",
    "version": 3
   },
   "file_extension": ".py",
   "mimetype": "text/x-python",
   "name": "python",
   "nbconvert_exporter": "python",
   "pygments_lexer": "ipython3",
   "version": "3.7.1"
  }
 },
 "nbformat": 4,
 "nbformat_minor": 2
}
