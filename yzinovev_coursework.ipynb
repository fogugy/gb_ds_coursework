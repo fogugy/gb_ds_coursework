{
 "cells": [
  {
   "cell_type": "code",
   "execution_count": 1,
   "metadata": {},
   "outputs": [],
   "source": [
    "import numpy as np\n",
    "import pandas as pd\n",
    "import matplotlib.pyplot as plt\n",
    "from sklearn.model_selection import train_test_split, GridSearchCV\n",
    "from sklearn.ensemble import RandomForestRegressor\n",
    "from sklearn.metrics import r2_score, make_scorer"
   ]
  },
  {
   "cell_type": "code",
   "execution_count": 2,
   "metadata": {},
   "outputs": [],
   "source": [
    "%matplotlib inline"
   ]
  },
  {
   "cell_type": "code",
   "execution_count": 3,
   "metadata": {},
   "outputs": [],
   "source": [
    "data_train = pd.read_csv('./data/train.csv')\n",
    "data_test = pd.read_csv('./data/test.csv')"
   ]
  },
  {
   "cell_type": "markdown",
   "metadata": {},
   "source": [
    "#### Ручная чистка данных. Украдено у себя\n",
    "https://github.com/fogugy/gb_ds_coursework/blob/cdd4f5c9e019f728d7487e60152e90565c188421/data_preparation.ipynb\n",
    "(т.к. в том варианте работал с индексами, а не с Id - то и чистить пришлось до сплита)"
   ]
  },
  {
   "cell_type": "code",
   "execution_count": 4,
   "metadata": {},
   "outputs": [],
   "source": [
    "data_train.loc[377, 'Rooms'] = 2\n",
    "data_train.loc[1454, 'Rooms'] = 1\n",
    "data_train.loc[2170, 'Rooms'] = 2\n",
    "data_train.loc[8849, 'Rooms'] = 2\n",
    "\n",
    "data_train.loc[1397, 'Rooms'] = 4\n",
    "data_train.loc[1981, 'Rooms'] = 5\n",
    "data_train.loc[2269, 'Rooms'] = 1\n",
    "data_train.loc[3911, 'Rooms'] = 2\n",
    "data_train.loc[4366, 'Rooms'] = 3\n",
    "data_train.loc[4853, 'Rooms'] = 1\n",
    "data_train.loc[6149, 'Rooms'] = 1\n",
    "data_train.loc[4853, 'Rooms'] = 1\n",
    "data_train.loc[8834, 'Rooms'] = 3\n",
    "\n",
    "data_train.loc[4262, 'Square'] = 60.4\n",
    "data_train.loc[4690, 'Square'] = 40.9\n",
    "data_train.loc[6977, 'Square'] = 64.1\n",
    "\n",
    "data_train.loc[212, 'Square'] = 67.6\n",
    "data_train.loc[212, 'LifeSquare'] = 54.9\n",
    "\n",
    "data_train.loc[1316, 'Square'] = 46.3\n",
    "data_train.loc[1316, 'LifeSquare'] = 46.3 - 19.6\n",
    "\n",
    "data_train.loc[1608, 'Square'] = 46\n",
    "data_train.loc[1608, 'LifeSquare'] = 26\n",
    "\n",
    "data_train.loc[3280, 'Square'] = 44\n",
    "data_train.loc[3280, 'LifeSquare'] = 41\n",
    "\n",
    "data_train.loc[3413, 'Square'] = 55.4\n",
    "data_train.loc[3413, 'LifeSquare'] = 51\n",
    "\n",
    "data_train.loc[4739, 'Rooms'] = 1\n",
    "\n",
    "data_train.loc[4853, 'Square'] = 23.7\n",
    "data_train.loc[4853, 'LifeSquare'] = 16\n",
    "\n",
    "data_train.loc[4900, 'Square'] = 56\n",
    "data_train.loc[4900, 'LifeSquare'] = 43\n",
    "\n",
    "data_train.loc[6392, 'Square'] = 45\n",
    "data_train.loc[6392, 'LifeSquare'] = 32\n",
    "\n",
    "data_train.loc[8030, 'Square'] = 80\n",
    "data_train.loc[8030, 'LifeSquare'] = 48\n",
    "\n",
    "data_train.loc[8283, 'Square'] = 26.5\n",
    "data_train.loc[8283, 'LifeSquare'] = 20\n",
    "\n",
    "data_train.loc[9294, 'Square'] = 52.5\n",
    "data_train.loc[9294, 'LifeSquare'] = 29\n",
    "\n",
    "data_train.loc[9613, 'Square'] = 46\n",
    "data_train.loc[9613, 'LifeSquare'] = 45\n",
    "\n",
    "data_train.loc[4328, 'LifeSquare'] = 74.8\n",
    "\n",
    "data_train.loc[4690, 'LifeSquare'] = 41\n",
    "data_train.loc[6977, 'LifeSquare'] = 64\n",
    "data_train.loc[8437, 'LifeSquare'] = 46"
   ]
  },
  {
   "cell_type": "code",
   "execution_count": 5,
   "metadata": {},
   "outputs": [],
   "source": [
    "data_test.loc[3398, 'Rooms'] = 1\n",
    "data_test.loc[2406, 'Rooms'] = 3\n",
    "data_test.loc[2524, 'Rooms'] = 2\n",
    "\n",
    "data_test.loc[66, 'Square'] = 13.7\n",
    "data_test.loc[66, 'LifeSquare'] = 13.5\n",
    "data_test.loc[608, 'Square'] = 26.4\n",
    "data_test.loc[837, 'Square'] = 15\n",
    "data_test.loc[1165, 'Square'] = 38\n",
    "data_test.loc[3697, 'Square'] = 13.3\n",
    "data_test.loc[4490, 'Square'] = 23.7\n",
    "data_test.loc[4540, 'Square'] = 29.6\n",
    "data_test.loc[4713, 'Square'] = 29\n",
    "data_test.loc[4902, 'Square'] = 29\n",
    "data_test.loc[410, 'LifeSquare'] = 30.3"
   ]
  },
  {
   "cell_type": "markdown",
   "metadata": {},
   "source": [
    "### Split"
   ]
  },
  {
   "cell_type": "code",
   "execution_count": 6,
   "metadata": {},
   "outputs": [],
   "source": [
    "d_train, d_valid = train_test_split(data_train, test_size=0.2, random_state=42)"
   ]
  },
  {
   "cell_type": "markdown",
   "metadata": {},
   "source": [
    "### Plots functions"
   ]
  },
  {
   "cell_type": "code",
   "execution_count": 7,
   "metadata": {},
   "outputs": [],
   "source": [
    "def square_lifesquare(ds):\n",
    "    plt.xlabel('Square')\n",
    "    plt.ylabel('Life Square')\n",
    "    plt_ = plt.scatter(ds.Square, ds.LifeSquare)"
   ]
  },
  {
   "cell_type": "code",
   "execution_count": 8,
   "metadata": {},
   "outputs": [],
   "source": [
    "def floor_housefloor(ds):\n",
    "    plt.xlabel('House Floor')\n",
    "    plt.ylabel('Floor')\n",
    "    plt_ = plt.scatter(ds.HouseFloor, ds.Floor)"
   ]
  },
  {
   "cell_type": "code",
   "execution_count": 9,
   "metadata": {},
   "outputs": [],
   "source": [
    "def housefloor_year(ds):\n",
    "    plt.ylabel('House Floor')\n",
    "    plt.xlabel('House Year')\n",
    "    plt_ = plt.scatter(ds.HouseYear, ds.HouseFloor)"
   ]
  },
  {
   "cell_type": "code",
   "execution_count": 10,
   "metadata": {},
   "outputs": [],
   "source": [
    "def housefloor_floor(ds):\n",
    "    plt.xlabel('HouseFloor')\n",
    "    plt.ylabel('Floor')\n",
    "    plt_ = plt.scatter(ds.HouseFloor, ds.Floor)"
   ]
  },
  {
   "cell_type": "code",
   "execution_count": 11,
   "metadata": {},
   "outputs": [],
   "source": [
    "def kitchen_square(ds):\n",
    "    plt.xlabel('Square')\n",
    "    plt.ylabel('Kitchen Square')\n",
    "    plt_ = plt.scatter(ds.Square, ds.KitchenSquare)"
   ]
  },
  {
   "cell_type": "markdown",
   "metadata": {},
   "source": [
    "### Data preparing"
   ]
  },
  {
   "cell_type": "markdown",
   "metadata": {},
   "source": [
    "#### Simple functions (no mean or any statistics)"
   ]
  },
  {
   "cell_type": "code",
   "execution_count": 12,
   "metadata": {},
   "outputs": [],
   "source": [
    "def set_dummies(ds):\n",
    "    return pd.get_dummies(ds)"
   ]
  },
  {
   "cell_type": "code",
   "execution_count": 13,
   "metadata": {},
   "outputs": [],
   "source": [
    "def set_square(ds):\n",
    "    ds.Square = np.where(ds.Square < 12, ds.Square * 10, ds.Square)\n",
    "    ds.Square = np.where(ds.Square > 400, ds.Square / 10, ds.Square)\n",
    "    return ds"
   ]
  },
  {
   "cell_type": "code",
   "execution_count": 14,
   "metadata": {},
   "outputs": [],
   "source": [
    "def fill_lifesquare(ds):\n",
    "    ds.LifeSquare = ds.LifeSquare.fillna(1)\n",
    "    ds.LifeSquare = np.where((ds.LifeSquare < 8) | (ds.LifeSquare > ds.Square), ds.Square, ds.LifeSquare)\n",
    "    return ds"
   ]
  },
  {
   "cell_type": "code",
   "execution_count": 15,
   "metadata": {},
   "outputs": [],
   "source": [
    "def clear_year(ds):\n",
    "    ds.HouseYear = np.where(ds.HouseYear > 2020, 2020, ds.HouseYear)\n",
    "    ds.HouseYear = np.where(ds.HouseYear < 1900, 1900, ds.HouseYear)\n",
    "    return ds"
   ]
  },
  {
   "cell_type": "code",
   "execution_count": 16,
   "metadata": {},
   "outputs": [],
   "source": [
    "def set_floors(ds):\n",
    "    ds.HouseFloor = np.where(ds.HouseFloor == 0, ds['mean_hfloor_year_dist'], ds.HouseFloor)\n",
    "    ds.HouseFloor = np.where(ds.HouseFloor > 60, ds['mean_hfloor_year_dist'], ds.HouseFloor)\n",
    "    ds.Floor = np.where(ds.Floor > ds.HouseFloor, ds.HouseFloor, ds.Floor)\n",
    "    ds.Floor = np.where(ds.Floor == 0, 1, ds.Floor)\n",
    "    return ds"
   ]
  },
  {
   "cell_type": "code",
   "execution_count": 17,
   "metadata": {},
   "outputs": [],
   "source": [
    "def set_kitchen(ds):\n",
    "    ds.KitchenSquare = np.where(ds.KitchenSquare == 0, ds.KitchenSquare.mean(), ds.KitchenSquare)\n",
    "    ds.KitchenSquare = np.where(ds.KitchenSquare > 200, ds.KitchenSquare.mean(), ds.KitchenSquare)\n",
    "    ds.KitchenSquare = np.where(ds.KitchenSquare >= ds.Square - ds.LifeSquare, ds.KitchenSquare.mean(), ds.KitchenSquare)\n",
    "    return ds"
   ]
  },
  {
   "cell_type": "markdown",
   "metadata": {},
   "source": [
    "#### Statictics, merging"
   ]
  },
  {
   "cell_type": "markdown",
   "metadata": {},
   "source": [
    "Price stats for DistrictId, HouseYear"
   ]
  },
  {
   "cell_type": "code",
   "execution_count": 18,
   "metadata": {},
   "outputs": [],
   "source": [
    "# mean_price_districtid\n",
    "s12 = d_train.groupby(['DistrictId'], as_index=False)[['Price']].mean().rename(columns={'Price':'mean_price_districtid'})\n",
    "# mean_price_houseyear\n",
    "s13 = d_train.groupby(['HouseYear'], as_index=False)[['Price']].mean().rename(columns={'Price':'mean_price_houseyear'})\n",
    "\n",
    "def price_hyear_dist_stat(ds):\n",
    "    ds = pd.merge(ds, s12, on=['DistrictId'], how='left')\n",
    "    ds = pd.merge(ds, s13, on=['HouseYear'], how='left')\n",
    "    ds['mean_price_districtid'] = ds['mean_price_districtid'].fillna(s12['mean_price_districtid'].mean())\n",
    "    ds['mean_price_houseyear'] = ds['mean_price_houseyear'].fillna(s13['mean_price_houseyear'].mean())\n",
    "    return ds"
   ]
  },
  {
   "cell_type": "markdown",
   "metadata": {},
   "source": [
    "Mean square for District and HouseYear"
   ]
  },
  {
   "cell_type": "code",
   "execution_count": 19,
   "metadata": {},
   "outputs": [],
   "source": [
    "# mean_sq_dist_hyear\n",
    "s21 = d_train.groupby(['DistrictId', 'HouseYear'], as_index=False)[['Square']].mean().rename(columns={'Square':'mean_sq_dist_hyear'})\n",
    "# mean_sq_dist\n",
    "s22 = d_train.groupby(['DistrictId'], as_index=False)[['Square']].mean().rename(columns={'Square':'mean_sq_dist'})\n",
    "# mean_sq_hyear\n",
    "s23 = d_train.groupby(['HouseYear'], as_index=False)[['Square']].mean().rename(columns={'Square':'mean_sq_hyear'})\n",
    "\n",
    "def square_hyear_dist_stat(ds):\n",
    "    ds = pd.merge(ds, s21, on=['DistrictId', 'HouseYear'], how='left')\n",
    "    ds = pd.merge(ds, s22, on=['DistrictId'], how='left')\n",
    "    ds = pd.merge(ds, s23, on=['HouseYear'], how='left')\n",
    "    ds['mean_sq_dist_hyear'] = ds['mean_sq_dist_hyear'].fillna(s21['mean_sq_dist_hyear'].mean())\n",
    "    ds['mean_sq_dist'] = ds['mean_sq_dist'].fillna(s22['mean_sq_dist'].mean())\n",
    "    ds['mean_sq_hyear'] = ds['mean_sq_hyear'].fillna(s23['mean_sq_hyear'].mean())\n",
    "    return ds"
   ]
  },
  {
   "cell_type": "markdown",
   "metadata": {},
   "source": [
    "Price for one square meter by district and houseyear"
   ]
  },
  {
   "cell_type": "code",
   "execution_count": 20,
   "metadata": {
    "scrolled": false
   },
   "outputs": [
    {
     "name": "stderr",
     "output_type": "stream",
     "text": [
      "/home/fogugy/anaconda3/lib/python3.6/site-packages/ipykernel_launcher.py:1: SettingWithCopyWarning: \n",
      "A value is trying to be set on a copy of a slice from a DataFrame.\n",
      "Try using .loc[row_indexer,col_indexer] = value instead\n",
      "\n",
      "See the caveats in the documentation: http://pandas.pydata.org/pandas-docs/stable/indexing.html#indexing-view-versus-copy\n",
      "  \"\"\"Entry point for launching an IPython kernel.\n"
     ]
    }
   ],
   "source": [
    "d_train['square_meter_price'] = d_train.Price / d_train.Square\n",
    "\n",
    "# mean_sq_unit_dist_hyear\n",
    "s31 = d_train.groupby(['DistrictId', 'HouseYear'], as_index=False)[['square_meter_price']].mean().rename(columns={'square_meter_price':'mean_sq_unit_dist_hyear'})\n",
    "# mean_sq_unit_dist\n",
    "s32 = d_train.groupby(['DistrictId'], as_index=False)[['square_meter_price']].mean().rename(columns={'square_meter_price':'mean_sq_unit_dist'})\n",
    "# mean_sq_unit_hyear\n",
    "s33 = d_train.groupby(['HouseYear'], as_index=False)[['square_meter_price']].mean().rename(columns={'square_meter_price':'mean_sq_unit_hyear'})\n",
    "\n",
    "def square_unit_hyear_dist_stat(ds):\n",
    "    ds = pd.merge(ds, s31, on=['DistrictId', 'HouseYear'], how='left')\n",
    "    ds = pd.merge(ds, s32, on=['DistrictId'], how='left')\n",
    "    ds = pd.merge(ds, s33, on=['HouseYear'], how='left')\n",
    "    ds['mean_sq_unit_dist_hyear'] = ds['mean_sq_unit_dist_hyear'].fillna(s31['mean_sq_unit_dist_hyear'].mean())\n",
    "    ds['mean_sq_unit_dist'] = ds['mean_sq_unit_dist'].fillna(s32['mean_sq_unit_dist'].mean())\n",
    "    ds['mean_sq_unit_hyear'] = ds['mean_sq_unit_hyear'].fillna(s33['mean_sq_unit_hyear'].mean())\n",
    "    return ds"
   ]
  },
  {
   "cell_type": "markdown",
   "metadata": {},
   "source": [
    "Kitchen square"
   ]
  },
  {
   "cell_type": "code",
   "execution_count": 21,
   "metadata": {},
   "outputs": [],
   "source": [
    "# mean_kisq_dist_hyear\n",
    "s41 = d_train.groupby(['DistrictId', 'HouseYear'], as_index=False)[['KitchenSquare']].mean().rename(columns={'KitchenSquare':'mean_kisq_dist_hyear'})\n",
    "# mean_kisq_dist\n",
    "s42 = d_train.groupby(['DistrictId'], as_index=False)[['KitchenSquare']].mean().rename(columns={'KitchenSquare':'mean_kisq_dist'})\n",
    "# mean_kisq_hyear\n",
    "s43 = d_train.groupby(['HouseYear'], as_index=False)[['KitchenSquare']].mean().rename(columns={'KitchenSquare':'mean_kisq_hyear'})\n",
    "\n",
    "def kitchen_square_hyear_dist_stat(ds):\n",
    "    ds = pd.merge(ds, s41, on=['DistrictId', 'HouseYear'], how='left')\n",
    "    ds = pd.merge(ds, s42, on=['DistrictId'], how='left')\n",
    "    ds = pd.merge(ds, s43, on=['HouseYear'], how='left')\n",
    "    ds['mean_kisq_dist_hyear'] = ds['mean_kisq_dist_hyear'].fillna(s41['mean_kisq_dist_hyear'].mean())\n",
    "    ds['mean_kisq_dist'] = ds['mean_kisq_dist'].fillna(s42['mean_kisq_dist'].mean())\n",
    "    ds['mean_kisq_hyear'] = ds['mean_kisq_hyear'].fillna(s43['mean_kisq_hyear'].mean())\n",
    "    return ds"
   ]
  },
  {
   "cell_type": "markdown",
   "metadata": {},
   "source": [
    "HouseFloor stats for Year, DistrictId"
   ]
  },
  {
   "cell_type": "code",
   "execution_count": 22,
   "metadata": {},
   "outputs": [],
   "source": [
    "nice_ = d_train[(d_train.HouseFloor > 0) & (d_train.HouseFloor < 40)]\n",
    "# mean_hfloor_year_dist\n",
    "s51 = nice_.groupby(['DistrictId', 'HouseYear'], as_index=False)[['HouseFloor']].mean().rename(columns={'HouseFloor':'mean_hfloor_year_dist'})\n",
    "\n",
    "def hfloor_hyear_dist_stat(ds):\n",
    "    ds = pd.merge(ds, s51, on=['HouseYear', 'DistrictId'], how='left')\n",
    "    ds['mean_hfloor_year_dist'] = ds['mean_hfloor_year_dist'].fillna(s51['mean_hfloor_year_dist'].mean())\n",
    "    return ds"
   ]
  },
  {
   "cell_type": "code",
   "execution_count": 23,
   "metadata": {},
   "outputs": [],
   "source": [
    "def prepare(ds):\n",
    "    ds = set_dummies(ds)\n",
    "    ds = set_square(ds)\n",
    "    ds = fill_lifesquare(ds)\n",
    "    ds = clear_year(ds)\n",
    "    \n",
    "    ds = price_hyear_dist_stat(ds)\n",
    "    ds = hfloor_hyear_dist_stat(ds)\n",
    "    ds = square_hyear_dist_stat(ds)\n",
    "    ds = square_unit_hyear_dist_stat(ds)\n",
    "    \n",
    "    ds = kitchen_square_hyear_dist_stat(ds)\n",
    "    \n",
    "    ds = set_floors(ds)\n",
    "    ds = set_kitchen(ds)\n",
    "    \n",
    "    return ds"
   ]
  },
  {
   "cell_type": "code",
   "execution_count": 24,
   "metadata": {},
   "outputs": [],
   "source": [
    "d_train = prepare(d_train)\n",
    "d_valid = prepare(d_valid)"
   ]
  },
  {
   "cell_type": "markdown",
   "metadata": {},
   "source": [
    "#### Visual analisis after data preparation"
   ]
  },
  {
   "cell_type": "code",
   "execution_count": 25,
   "metadata": {
    "scrolled": true
   },
   "outputs": [
    {
     "data": {
      "image/png": "[encoded data removed]",
      "text/plain": [
       "<Figure size 432x288 with 1 Axes>"
      ]
     },
     "metadata": {},
     "output_type": "display_data"
    }
   ],
   "source": [
    "square_lifesquare(d_train)\n",
    "square_lifesquare(d_valid)"
   ]
  },
  {
   "cell_type": "code",
   "execution_count": 26,
   "metadata": {
    "scrolled": false
   },
   "outputs": [
    {
     "data": {
      "image/png": "[encoded data removed]",
      "text/plain": [
       "<Figure size 432x288 with 1 Axes>"
      ]
     },
     "metadata": {},
     "output_type": "display_data"
    }
   ],
   "source": [
    "floor_housefloor(d_train)\n",
    "floor_housefloor(d_valid)"
   ]
  },
  {
   "cell_type": "code",
   "execution_count": 27,
   "metadata": {
    "scrolled": true
   },
   "outputs": [
    {
     "data": {
      "image/png": "[encoded data removed]",
      "text/plain": [
       "<Figure size 432x288 with 1 Axes>"
      ]
     },
     "metadata": {},
     "output_type": "display_data"
    }
   ],
   "source": [
    "housefloor_year(d_train)\n",
    "housefloor_year(d_valid)"
   ]
  },
  {
   "cell_type": "code",
   "execution_count": 28,
   "metadata": {
    "scrolled": true
   },
   "outputs": [
    {
     "data": {
      "image/png": "[encoded data removed]",
      "text/plain": [
       "<Figure size 432x288 with 1 Axes>"
      ]
     },
     "metadata": {},
     "output_type": "display_data"
    }
   ],
   "source": [
    "kitchen_square(d_train)\n",
    "kitchen_square(d_valid)"
   ]
  },
  {
   "cell_type": "markdown",
   "metadata": {},
   "source": [
    "### Model"
   ]
  },
  {
   "cell_type": "code",
   "execution_count": 29,
   "metadata": {},
   "outputs": [],
   "source": [
    "feats_original = ['DistrictId', 'Rooms', 'Square', 'LifeSquare', 'Floor', 'KitchenSquare',\n",
    "         'HouseFloor', 'HouseYear', 'Ecology_1',\n",
    "         'Social_1', 'Social_2', 'Social_3', 'Helthcare_2', 'Shops_1']\n",
    "feats_dummies = ['Ecology_2_A', 'Ecology_2_B', 'Ecology_3_A', 'Ecology_3_B', 'Shops_2_A', 'Shops_2_B']\n",
    "\n",
    "feats_stat_price = ['mean_price_districtid', 'mean_price_houseyear']\n",
    "feats_stat_square = ['mean_sq_dist_hyear', 'mean_sq_dist', 'mean_sq_hyear']\n",
    "feats_stat_price_unit = ['mean_sq_unit_dist', 'mean_sq_unit_hyear']\n",
    "feats_stat_kitchen_square = ['mean_kisq_hyear', 'mean_kisq_dist']\n",
    "feats_stat_floor = ['mean_hfloor_year_dist']\n",
    "feats_stat = feats_stat_price + feats_stat_square + feats_stat_price_unit + feats_stat_kitchen_square\n",
    "\n",
    "feats = feats_original + feats_dummies + feats_stat"
   ]
  },
  {
   "cell_type": "markdown",
   "metadata": {},
   "source": [
    "#### RandomForestRegressor"
   ]
  },
  {
   "cell_type": "code",
   "execution_count": 30,
   "metadata": {},
   "outputs": [
    {
     "data": {
      "text/plain": [
       "RandomForestRegressor(bootstrap=True, criterion='mse', max_depth=10,\n",
       "           max_features='auto', max_leaf_nodes=None,\n",
       "           min_impurity_decrease=0.0, min_impurity_split=None,\n",
       "           min_samples_leaf=1, min_samples_split=2,\n",
       "           min_weight_fraction_leaf=0.0, n_estimators=100, n_jobs=1,\n",
       "           oob_score=False, random_state=42, verbose=0, warm_start=False)"
      ]
     },
     "execution_count": 30,
     "metadata": {},
     "output_type": "execute_result"
    }
   ],
   "source": [
    "# GridSearchCV best_params_ approve\n",
    "model = RandomForestRegressor(max_depth=10, random_state=42, n_estimators=100)\n",
    "model.fit(d_train.loc[:, feats], d_train.Price)"
   ]
  },
  {
   "cell_type": "code",
   "execution_count": 31,
   "metadata": {},
   "outputs": [],
   "source": [
    "def get_prediction(ds, y=None, r2=False):\n",
    "    pred = model.predict(ds.loc[:, feats])\n",
    "    if r2:\n",
    "        print('R2:', r2_score(y, pred))\n",
    "    return pred"
   ]
  },
  {
   "cell_type": "code",
   "execution_count": 32,
   "metadata": {},
   "outputs": [
    {
     "name": "stdout",
     "output_type": "stream",
     "text": [
      "R2: 0.9003041848409411\n"
     ]
    }
   ],
   "source": [
    "pred_train = get_prediction(ds=d_train, y=d_train.Price, r2=True)"
   ]
  },
  {
   "cell_type": "code",
   "execution_count": 33,
   "metadata": {
    "scrolled": true
   },
   "outputs": [
    {
     "name": "stdout",
     "output_type": "stream",
     "text": [
      "R2: 0.7155910987832529\n"
     ]
    }
   ],
   "source": [
    "pred_valid = get_prediction(ds=d_valid, y=d_valid.Price, r2=True)"
   ]
  },
  {
   "cell_type": "code",
   "execution_count": 34,
   "metadata": {
    "scrolled": true
   },
   "outputs": [
    {
     "data": {
      "text/html": [
       "<div>\n",
       "<style scoped>\n",
       "    .dataframe tbody tr th:only-of-type {\n",
       "        vertical-align: middle;\n",
       "    }\n",
       "\n",
       "    .dataframe tbody tr th {\n",
       "        vertical-align: top;\n",
       "    }\n",
       "\n",
       "    .dataframe thead th {\n",
       "        text-align: right;\n",
       "    }\n",
       "</style>\n",
       "<table border=\"1\" class=\"dataframe\">\n",
       "  <thead>\n",
       "    <tr style=\"text-align: right;\">\n",
       "      <th></th>\n",
       "      <th>feat</th>\n",
       "      <th>importance</th>\n",
       "    </tr>\n",
       "  </thead>\n",
       "  <tbody>\n",
       "    <tr>\n",
       "      <th>2</th>\n",
       "      <td>Square</td>\n",
       "      <td>0.424969</td>\n",
       "    </tr>\n",
       "    <tr>\n",
       "      <th>25</th>\n",
       "      <td>mean_sq_unit_dist</td>\n",
       "      <td>0.246669</td>\n",
       "    </tr>\n",
       "    <tr>\n",
       "      <th>20</th>\n",
       "      <td>mean_price_districtid</td>\n",
       "      <td>0.124544</td>\n",
       "    </tr>\n",
       "    <tr>\n",
       "      <th>1</th>\n",
       "      <td>Rooms</td>\n",
       "      <td>0.030202</td>\n",
       "    </tr>\n",
       "    <tr>\n",
       "      <th>3</th>\n",
       "      <td>LifeSquare</td>\n",
       "      <td>0.020038</td>\n",
       "    </tr>\n",
       "    <tr>\n",
       "      <th>22</th>\n",
       "      <td>mean_sq_dist_hyear</td>\n",
       "      <td>0.016619</td>\n",
       "    </tr>\n",
       "    <tr>\n",
       "      <th>21</th>\n",
       "      <td>mean_price_houseyear</td>\n",
       "      <td>0.016050</td>\n",
       "    </tr>\n",
       "    <tr>\n",
       "      <th>26</th>\n",
       "      <td>mean_sq_unit_hyear</td>\n",
       "      <td>0.015687</td>\n",
       "    </tr>\n",
       "    <tr>\n",
       "      <th>10</th>\n",
       "      <td>Social_2</td>\n",
       "      <td>0.010327</td>\n",
       "    </tr>\n",
       "    <tr>\n",
       "      <th>9</th>\n",
       "      <td>Social_1</td>\n",
       "      <td>0.009518</td>\n",
       "    </tr>\n",
       "    <tr>\n",
       "      <th>4</th>\n",
       "      <td>Floor</td>\n",
       "      <td>0.008800</td>\n",
       "    </tr>\n",
       "    <tr>\n",
       "      <th>5</th>\n",
       "      <td>KitchenSquare</td>\n",
       "      <td>0.008585</td>\n",
       "    </tr>\n",
       "  </tbody>\n",
       "</table>\n",
       "</div>"
      ],
      "text/plain": [
       "                     feat  importance\n",
       "2                  Square    0.424969\n",
       "25      mean_sq_unit_dist    0.246669\n",
       "20  mean_price_districtid    0.124544\n",
       "1                   Rooms    0.030202\n",
       "3              LifeSquare    0.020038\n",
       "22     mean_sq_dist_hyear    0.016619\n",
       "21   mean_price_houseyear    0.016050\n",
       "26     mean_sq_unit_hyear    0.015687\n",
       "10               Social_2    0.010327\n",
       "9                Social_1    0.009518\n",
       "4                   Floor    0.008800\n",
       "5           KitchenSquare    0.008585"
      ]
     },
     "execution_count": 34,
     "metadata": {},
     "output_type": "execute_result"
    }
   ],
   "source": [
    "feat_imp = pd.DataFrame({'feat': feats, 'importance': model.feature_importances_})\n",
    "feat_imp.sort_values('importance', ascending=False).head(12)"
   ]
  },
  {
   "cell_type": "markdown",
   "metadata": {},
   "source": [
    "### test.csv"
   ]
  },
  {
   "cell_type": "code",
   "execution_count": 35,
   "metadata": {},
   "outputs": [],
   "source": [
    "data_test = prepare(data_test)"
   ]
  },
  {
   "cell_type": "code",
   "execution_count": 36,
   "metadata": {},
   "outputs": [
    {
     "data": {
      "image/png": "[encoded data removed]",
      "text/plain": [
       "<Figure size 432x288 with 1 Axes>"
      ]
     },
     "metadata": {},
     "output_type": "display_data"
    }
   ],
   "source": [
    "square_lifesquare(data_test)"
   ]
  },
  {
   "cell_type": "code",
   "execution_count": 37,
   "metadata": {},
   "outputs": [
    {
     "data": {
      "image/png": "[encoded data removed]",
      "text/plain": [
       "<Figure size 432x288 with 1 Axes>"
      ]
     },
     "metadata": {},
     "output_type": "display_data"
    }
   ],
   "source": [
    "floor_housefloor(data_test)"
   ]
  },
  {
   "cell_type": "code",
   "execution_count": 38,
   "metadata": {},
   "outputs": [
    {
     "data": {
      "image/png": "[encoded data removed]",
      "text/plain": [
       "<Figure size 432x288 with 1 Axes>"
      ]
     },
     "metadata": {},
     "output_type": "display_data"
    }
   ],
   "source": [
    "housefloor_year(data_test)"
   ]
  },
  {
   "cell_type": "code",
   "execution_count": 39,
   "metadata": {},
   "outputs": [
    {
     "data": {
      "image/png": "[encoded data removed]",
      "text/plain": [
       "<Figure size 432x288 with 1 Axes>"
      ]
     },
     "metadata": {},
     "output_type": "display_data"
    }
   ],
   "source": [
    "kitchen_square(data_test)"
   ]
  },
  {
   "cell_type": "code",
   "execution_count": 40,
   "metadata": {},
   "outputs": [],
   "source": [
    "data_test['Price'] = get_prediction(data_test)"
   ]
  },
  {
   "cell_type": "code",
   "execution_count": 41,
   "metadata": {},
   "outputs": [
    {
     "data": {
      "image/png": "[encoded data removed]",
      "text/plain": [
       "<Figure size 864x216 with 2 Axes>"
      ]
     },
     "metadata": {},
     "output_type": "display_data"
    }
   ],
   "source": [
    "fig, ax = plt.subplots(1, 2)\n",
    "ax1, ax2 = ax.flatten()\n",
    "\n",
    "color = ['green', 'fuchsia', 'blue']\n",
    "\n",
    "ax1_data = (pred_train, pred_valid, data_test.Price)\n",
    "ax1.hist(ax1_data, bins=15, density=1, color=color, edgecolor='white', linewidth=0.2)\n",
    "ax1.set_xlabel('predictions')\n",
    "ax1.legend(('train', 'valid', 'test'), loc='upper right')\n",
    "\n",
    "ax2_data = (d_train.Price, d_valid.Price, data_test.Price)\n",
    "ax2.hist(ax2_data, bins=15, density=1, color=color, edgecolor='white', linewidth=0.2)\n",
    "ax2.set_xlabel('price, test pred')\n",
    "ax2.legend(('train', 'valid', 'test'), loc='upper right')\n",
    "\n",
    "fig.set_size_inches(12, 3)\n",
    "plt.subplots_adjust(wspace=0.3, hspace=0.3)\n",
    "\n",
    "plt.show()"
   ]
  },
  {
   "cell_type": "code",
   "execution_count": 42,
   "metadata": {},
   "outputs": [],
   "source": [
    "data_test.loc[:, ['Id', 'Price']].to_csv('./data/YZinovev_predictions.csv', index=False)"
   ]
  }
 ],
 "metadata": {
  "kernelspec": {
   "display_name": "Python 3",
   "language": "python",
   "name": "python3"
  },
  "language_info": {
   "codemirror_mode": {
    "name": "ipython",
    "version": 3
   },
   "file_extension": ".py",
   "mimetype": "text/x-python",
   "name": "python",
   "nbconvert_exporter": "python",
   "pygments_lexer": "ipython3",
   "version": "3.6.5"
  }
 },
 "nbformat": 4,
 "nbformat_minor": 2
}
